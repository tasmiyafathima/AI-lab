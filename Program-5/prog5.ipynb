{
  "nbformat": 4,
  "nbformat_minor": 0,
  "metadata": {
    "colab": {
      "name": "prog5.ipynb",
      "provenance": [],
      "authorship_tag": "ABX9TyN9IwQtCd0Qh/bVOLPydiUJ",
      "include_colab_link": true
    },
    "kernelspec": {
      "name": "python3",
      "display_name": "Python 3"
    },
    "language_info": {
      "name": "python"
    }
  },
  "cells": [
    {
      "cell_type": "markdown",
      "metadata": {
        "id": "view-in-github",
        "colab_type": "text"
      },
      "source": [
        "<a href=\"https://colab.research.google.com/github/tasmiyafathima/AI-lab/blob/main/Program-5/prog5.ipynb\" target=\"_parent\"><img src=\"https://colab.research.google.com/assets/colab-badge.svg\" alt=\"Open In Colab\"/></a>"
      ]
    },
    {
      "cell_type": "code",
      "metadata": {
        "id": "aB8XyiDe-ptB"
      },
      "source": [
        "def check(stack):\n",
        "  if stack[-1]==\"right\" or stack[-1] ==\"left\":\n",
        "    if stack[-2]==\"left\" or stack[-2] ==\"right\":\n",
        "      return False\n",
        "\n",
        "stack=[]\n",
        "count=0\n",
        "flag=True\n",
        "while flag:\n",
        "  perc=input(\"Enter the percept: \")\n",
        "  loc=input(\"Enter the Location: \")\n",
        "  if loc==\"A\":\n",
        "    #if cell A is dirty\n",
        "    if perc==\"dirty\":\n",
        "      print(\"Action: Suck and Turn Right\")\n",
        "      stack.append(\"suck\")\n",
        "      stack.append(\"right\")\n",
        "      #sucks at A and moves to cell B\n",
        "      loc=\"B\"\n",
        "      perc=input(\"Enter the percept for cell \"+loc+\": \")\n",
        "      if perc==\"dirty\":\n",
        "        print(\"Suck\")\n",
        "        stack.append(\"suck\")\n",
        "      else:\n",
        "        print(\"No Operation\")\n",
        "        stack.append(\"no_op\")\n",
        "\n",
        "    else:\n",
        "      print(\"Action: Turn Right\")\n",
        "      stack.append(\"right\")\n",
        "      loc=\"B\"\n",
        "      perc=input(\"Enter the percept for cell \"+loc+\": \")\n",
        "      if perc==\"dirty\":\n",
        "        print(\"Suck\")\n",
        "        stack.append(\"suck\")\n",
        "      else:\n",
        "        print(\"No Operation\")\n",
        "        stack.append(\"no_op\")\n",
        "  #if vaccum is starts from location B\n",
        "  else:\n",
        "    #if cell B is dirty\n",
        "    if perc==\"dirty\":\n",
        "      print(\"Action: Suck and Turn Left\")\n",
        "      stack.append(\"suck\")\n",
        "      stack.append(\"left\")\n",
        "      #turns left and arrives at cell A\n",
        "      loc=\"A\"\n",
        "      perc=input(\"Enter the percept for cell \"+loc+\": \")\n",
        "      if perc==\"dirty\":\n",
        "        print(\"Suck\")\n",
        "        stack.append(\"suck\")\n",
        "      else:\n",
        "        print(\"No Operation\")\n",
        "        stack.append(\"no_op\")\n",
        "    else:\n",
        "      print(\"Action: Turn Left\")\n",
        "      stack.append(\"left\")\n",
        "      loc=\"A\"\n",
        "      perc=input(\"Enter the percept for cell \"+loc+\": \")\n",
        "      if perc==\"dirty\":\n",
        "        print(\"Suck\")\n",
        "        stack.append(\"suck\")\n",
        "      else:\n",
        "        print(\"No Operation\")\n",
        "        stack.append(\"no_op\")\n",
        "  count=count+1\n",
        "  if count>2:\n",
        "    flag=check(stack)\n",
        "  print(\"Both A and B are clean\")"
      ],
      "execution_count": null,
      "outputs": []
    }
  ]
}